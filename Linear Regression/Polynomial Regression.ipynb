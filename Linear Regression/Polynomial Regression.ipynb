{
 "cells": [
  {
   "cell_type": "code",
   "execution_count": 1,
   "metadata": {},
   "outputs": [],
   "source": [
    "import pandas as pd\n",
    "import numpy as np\n",
    "from sklearn.linear_model import LinearRegression\n",
    "import matplotlib.pyplot as plt\n",
    "%matplotlib inline"
   ]
  },
  {
   "cell_type": "code",
   "execution_count": 2,
   "metadata": {},
   "outputs": [],
   "source": [
    "def polynomial_dataframe(feature, degree): # feature is pandas.Series type\n",
    "    # assume that degree >= 1\n",
    "    # initialize the dataframe:\n",
    "    poly_dataframe = pd.DataFrame()\n",
    "    # and set poly_dataframe['power_1'] equal to the passed feature\n",
    "    poly_dataframe['power_1'] = feature\n",
    "    if degree > 1:\n",
    "        for power in range(2, degree+1):\n",
    "            name = 'power_' + str(power)\n",
    "            poly_dataframe[name] = feature.apply(lambda x: x**power)\n",
    "    return poly_dataframe"
   ]
  },
  {
   "cell_type": "code",
   "execution_count": 3,
   "metadata": {},
   "outputs": [],
   "source": [
    "dtype_dict = {'bathrooms':float, 'waterfront':int, 'sqft_above':int, 'sqft_living15':float, 'grade':int,\n",
    "              'yr_renovated':int, 'price':float, 'bedrooms':float, 'zipcode':str, 'long':float, 'sqft_lot15':float,\n",
    "              'sqft_living':float, 'floors':str, 'condition':int, 'lat':float, 'date':str, 'sqft_basement':int,\n",
    "              'yr_built':int, 'id':str, 'sqft_lot':int, 'view':int}"
   ]
  },
  {
   "cell_type": "code",
   "execution_count": 4,
   "metadata": {},
   "outputs": [],
   "source": [
    "sales = pd.read_csv(r\"D:\\regression\\kc_house_data.csv\", dtype=dtype_dict)\n",
    "sales = sales.sort_values(['sqft_living','price'])"
   ]
  },
  {
   "cell_type": "markdown",
   "metadata": {},
   "source": [
    "### degree 1"
   ]
  },
  {
   "cell_type": "code",
   "execution_count": 5,
   "metadata": {},
   "outputs": [],
   "source": [
    "poly1_data = polynomial_dataframe(sales['sqft_living'], 1)\n",
    "poly1_data['price'] = sales['price']"
   ]
  },
  {
   "cell_type": "code",
   "execution_count": 6,
   "metadata": {},
   "outputs": [
    {
     "data": {
      "text/html": [
       "<div>\n",
       "<style scoped>\n",
       "    .dataframe tbody tr th:only-of-type {\n",
       "        vertical-align: middle;\n",
       "    }\n",
       "\n",
       "    .dataframe tbody tr th {\n",
       "        vertical-align: top;\n",
       "    }\n",
       "\n",
       "    .dataframe thead th {\n",
       "        text-align: right;\n",
       "    }\n",
       "</style>\n",
       "<table border=\"1\" class=\"dataframe\">\n",
       "  <thead>\n",
       "    <tr style=\"text-align: right;\">\n",
       "      <th></th>\n",
       "      <th>power_1</th>\n",
       "      <th>price</th>\n",
       "    </tr>\n",
       "  </thead>\n",
       "  <tbody>\n",
       "    <tr>\n",
       "      <th>19452</th>\n",
       "      <td>290.0</td>\n",
       "      <td>142000.0</td>\n",
       "    </tr>\n",
       "    <tr>\n",
       "      <th>15381</th>\n",
       "      <td>370.0</td>\n",
       "      <td>276000.0</td>\n",
       "    </tr>\n",
       "    <tr>\n",
       "      <th>860</th>\n",
       "      <td>380.0</td>\n",
       "      <td>245000.0</td>\n",
       "    </tr>\n",
       "    <tr>\n",
       "      <th>18379</th>\n",
       "      <td>384.0</td>\n",
       "      <td>265000.0</td>\n",
       "    </tr>\n",
       "    <tr>\n",
       "      <th>4868</th>\n",
       "      <td>390.0</td>\n",
       "      <td>228000.0</td>\n",
       "    </tr>\n",
       "  </tbody>\n",
       "</table>\n",
       "</div>"
      ],
      "text/plain": [
       "       power_1     price\n",
       "19452    290.0  142000.0\n",
       "15381    370.0  276000.0\n",
       "860      380.0  245000.0\n",
       "18379    384.0  265000.0\n",
       "4868     390.0  228000.0"
      ]
     },
     "execution_count": 6,
     "metadata": {},
     "output_type": "execute_result"
    }
   ],
   "source": [
    "poly1_data.head()"
   ]
  },
  {
   "cell_type": "code",
   "execution_count": 7,
   "metadata": {},
   "outputs": [],
   "source": [
    "model1=LinearRegression()"
   ]
  },
  {
   "cell_type": "code",
   "execution_count": 8,
   "metadata": {},
   "outputs": [
    {
     "data": {
      "text/plain": [
       "LinearRegression(copy_X=True, fit_intercept=True, n_jobs=1, normalize=False)"
      ]
     },
     "execution_count": 8,
     "metadata": {},
     "output_type": "execute_result"
    }
   ],
   "source": [
    "x=poly1_data[['power_1']]\n",
    "y=poly1_data['price']\n",
    "model1.fit(x,y)"
   ]
  },
  {
   "cell_type": "code",
   "execution_count": 9,
   "metadata": {},
   "outputs": [
    {
     "data": {
      "text/plain": [
       "[<matplotlib.lines.Line2D at 0x20547197a20>,\n",
       " <matplotlib.lines.Line2D at 0x20547197c18>]"
      ]
     },
     "execution_count": 9,
     "metadata": {},
     "output_type": "execute_result"
    },
    {
     "data": {
      "image/png": "[encoded data removed]",
      "text/plain": [
       "<matplotlib.figure.Figure at 0x205474cd4a8>"
      ]
     },
     "metadata": {},
     "output_type": "display_data"
    }
   ],
   "source": [
    "plt.plot(x,y,'.',x, model1.predict(x),'-')"
   ]
  },
  {
   "cell_type": "markdown",
   "metadata": {},
   "source": [
    "### degree 2"
   ]
  },
  {
   "cell_type": "code",
   "execution_count": 10,
   "metadata": {},
   "outputs": [
    {
     "data": {
      "text/html": [
       "<div>\n",
       "<style scoped>\n",
       "    .dataframe tbody tr th:only-of-type {\n",
       "        vertical-align: middle;\n",
       "    }\n",
       "\n",
       "    .dataframe tbody tr th {\n",
       "        vertical-align: top;\n",
       "    }\n",
       "\n",
       "    .dataframe thead th {\n",
       "        text-align: right;\n",
       "    }\n",
       "</style>\n",
       "<table border=\"1\" class=\"dataframe\">\n",
       "  <thead>\n",
       "    <tr style=\"text-align: right;\">\n",
       "      <th></th>\n",
       "      <th>power_1</th>\n",
       "      <th>power_2</th>\n",
       "      <th>price</th>\n",
       "    </tr>\n",
       "  </thead>\n",
       "  <tbody>\n",
       "    <tr>\n",
       "      <th>19452</th>\n",
       "      <td>290.0</td>\n",
       "      <td>84100.0</td>\n",
       "      <td>142000.0</td>\n",
       "    </tr>\n",
       "    <tr>\n",
       "      <th>15381</th>\n",
       "      <td>370.0</td>\n",
       "      <td>136900.0</td>\n",
       "      <td>276000.0</td>\n",
       "    </tr>\n",
       "    <tr>\n",
       "      <th>860</th>\n",
       "      <td>380.0</td>\n",
       "      <td>144400.0</td>\n",
       "      <td>245000.0</td>\n",
       "    </tr>\n",
       "    <tr>\n",
       "      <th>18379</th>\n",
       "      <td>384.0</td>\n",
       "      <td>147456.0</td>\n",
       "      <td>265000.0</td>\n",
       "    </tr>\n",
       "    <tr>\n",
       "      <th>4868</th>\n",
       "      <td>390.0</td>\n",
       "      <td>152100.0</td>\n",
       "      <td>228000.0</td>\n",
       "    </tr>\n",
       "  </tbody>\n",
       "</table>\n",
       "</div>"
      ],
      "text/plain": [
       "       power_1   power_2     price\n",
       "19452    290.0   84100.0  142000.0\n",
       "15381    370.0  136900.0  276000.0\n",
       "860      380.0  144400.0  245000.0\n",
       "18379    384.0  147456.0  265000.0\n",
       "4868     390.0  152100.0  228000.0"
      ]
     },
     "execution_count": 10,
     "metadata": {},
     "output_type": "execute_result"
    }
   ],
   "source": [
    "poly2_data = polynomial_dataframe(sales['sqft_living'], 2)\n",
    "poly2_data['price'] = sales['price']\n",
    "poly2_data.head()"
   ]
  },
  {
   "cell_type": "code",
   "execution_count": 11,
   "metadata": {},
   "outputs": [
    {
     "data": {
      "text/plain": [
       "LinearRegression(copy_X=True, fit_intercept=True, n_jobs=1, normalize=False)"
      ]
     },
     "execution_count": 11,
     "metadata": {},
     "output_type": "execute_result"
    }
   ],
   "source": [
    "model2=LinearRegression()\n",
    "x=poly2_data[['power_1','power_2']]\n",
    "y=poly2_data['price']\n",
    "model2.fit(x,y)"
   ]
  },
  {
   "cell_type": "code",
   "execution_count": 12,
   "metadata": {},
   "outputs": [
    {
     "data": {
      "text/plain": [
       "[<matplotlib.lines.Line2D at 0x205472656a0>,\n",
       " <matplotlib.lines.Line2D at 0x20547265c88>]"
      ]
     },
     "execution_count": 12,
     "metadata": {},
     "output_type": "execute_result"
    },
    {
     "data": {
      "image/png": "[encoded data removed]",
      "text/plain": [
       "<matplotlib.figure.Figure at 0x20546f0ea58>"
      ]
     },
     "metadata": {},
     "output_type": "display_data"
    }
   ],
   "source": [
    "plt.plot(x['power_1'],y,'.',x['power_1'], model2.predict(x),'-')"
   ]
  },
  {
   "cell_type": "markdown",
   "metadata": {},
   "source": [
    "### degree 3"
   ]
  },
  {
   "cell_type": "code",
   "execution_count": 13,
   "metadata": {},
   "outputs": [
    {
     "data": {
      "text/html": [
       "<div>\n",
       "<style scoped>\n",
       "    .dataframe tbody tr th:only-of-type {\n",
       "        vertical-align: middle;\n",
       "    }\n",
       "\n",
       "    .dataframe tbody tr th {\n",
       "        vertical-align: top;\n",
       "    }\n",
       "\n",
       "    .dataframe thead th {\n",
       "        text-align: right;\n",
       "    }\n",
       "</style>\n",
       "<table border=\"1\" class=\"dataframe\">\n",
       "  <thead>\n",
       "    <tr style=\"text-align: right;\">\n",
       "      <th></th>\n",
       "      <th>power_1</th>\n",
       "      <th>power_2</th>\n",
       "      <th>power_3</th>\n",
       "      <th>price</th>\n",
       "    </tr>\n",
       "  </thead>\n",
       "  <tbody>\n",
       "    <tr>\n",
       "      <th>19452</th>\n",
       "      <td>290.0</td>\n",
       "      <td>84100.0</td>\n",
       "      <td>24389000.0</td>\n",
       "      <td>142000.0</td>\n",
       "    </tr>\n",
       "    <tr>\n",
       "      <th>15381</th>\n",
       "      <td>370.0</td>\n",
       "      <td>136900.0</td>\n",
       "      <td>50653000.0</td>\n",
       "      <td>276000.0</td>\n",
       "    </tr>\n",
       "    <tr>\n",
       "      <th>860</th>\n",
       "      <td>380.0</td>\n",
       "      <td>144400.0</td>\n",
       "      <td>54872000.0</td>\n",
       "      <td>245000.0</td>\n",
       "    </tr>\n",
       "    <tr>\n",
       "      <th>18379</th>\n",
       "      <td>384.0</td>\n",
       "      <td>147456.0</td>\n",
       "      <td>56623104.0</td>\n",
       "      <td>265000.0</td>\n",
       "    </tr>\n",
       "    <tr>\n",
       "      <th>4868</th>\n",
       "      <td>390.0</td>\n",
       "      <td>152100.0</td>\n",
       "      <td>59319000.0</td>\n",
       "      <td>228000.0</td>\n",
       "    </tr>\n",
       "  </tbody>\n",
       "</table>\n",
       "</div>"
      ],
      "text/plain": [
       "       power_1   power_2     power_3     price\n",
       "19452    290.0   84100.0  24389000.0  142000.0\n",
       "15381    370.0  136900.0  50653000.0  276000.0\n",
       "860      380.0  144400.0  54872000.0  245000.0\n",
       "18379    384.0  147456.0  56623104.0  265000.0\n",
       "4868     390.0  152100.0  59319000.0  228000.0"
      ]
     },
     "execution_count": 13,
     "metadata": {},
     "output_type": "execute_result"
    }
   ],
   "source": [
    "poly3_data = polynomial_dataframe(sales['sqft_living'], 3)\n",
    "poly3_data['price'] = sales['price']\n",
    "poly3_data.head()"
   ]
  },
  {
   "cell_type": "code",
   "execution_count": 14,
   "metadata": {},
   "outputs": [
    {
     "data": {
      "text/plain": [
       "LinearRegression(copy_X=True, fit_intercept=True, n_jobs=1, normalize=False)"
      ]
     },
     "execution_count": 14,
     "metadata": {},
     "output_type": "execute_result"
    }
   ],
   "source": [
    "model3=LinearRegression()\n",
    "x=poly3_data[['power_1','power_2','power_3']]\n",
    "y=poly3_data['price']\n",
    "model3.fit(x,y)"
   ]
  },
  {
   "cell_type": "code",
   "execution_count": 15,
   "metadata": {},
   "outputs": [
    {
     "data": {
      "text/plain": [
       "[<matplotlib.lines.Line2D at 0x205476f6a58>,\n",
       " <matplotlib.lines.Line2D at 0x205476f6c18>]"
      ]
     },
     "execution_count": 15,
     "metadata": {},
     "output_type": "execute_result"
    },
    {
     "data": {
      "image/png": "[encoded data removed]",
      "text/plain": [
       "<matplotlib.figure.Figure at 0x205471df2e8>"
      ]
     },
     "metadata": {},
     "output_type": "display_data"
    }
   ],
   "source": [
    "plt.plot(x['power_1'],y,'.',x['power_1'], model3.predict(x),'-')"
   ]
  },
  {
   "cell_type": "markdown",
   "metadata": {},
   "source": [
    "### degree 15"
   ]
  },
  {
   "cell_type": "code",
   "execution_count": 16,
   "metadata": {},
   "outputs": [
    {
     "data": {
      "text/html": [
       "<div>\n",
       "<style scoped>\n",
       "    .dataframe tbody tr th:only-of-type {\n",
       "        vertical-align: middle;\n",
       "    }\n",
       "\n",
       "    .dataframe tbody tr th {\n",
       "        vertical-align: top;\n",
       "    }\n",
       "\n",
       "    .dataframe thead th {\n",
       "        text-align: right;\n",
       "    }\n",
       "</style>\n",
       "<table border=\"1\" class=\"dataframe\">\n",
       "  <thead>\n",
       "    <tr style=\"text-align: right;\">\n",
       "      <th></th>\n",
       "      <th>power_1</th>\n",
       "      <th>power_2</th>\n",
       "      <th>power_3</th>\n",
       "      <th>power_4</th>\n",
       "      <th>power_5</th>\n",
       "      <th>power_6</th>\n",
       "      <th>power_7</th>\n",
       "      <th>power_8</th>\n",
       "      <th>power_9</th>\n",
       "      <th>power_10</th>\n",
       "      <th>power_11</th>\n",
       "      <th>power_12</th>\n",
       "      <th>power_13</th>\n",
       "      <th>power_14</th>\n",
       "      <th>power_15</th>\n",
       "      <th>price</th>\n",
       "    </tr>\n",
       "  </thead>\n",
       "  <tbody>\n",
       "    <tr>\n",
       "      <th>19452</th>\n",
       "      <td>290.0</td>\n",
       "      <td>84100.0</td>\n",
       "      <td>24389000.0</td>\n",
       "      <td>7.072810e+09</td>\n",
       "      <td>2.051115e+12</td>\n",
       "      <td>5.948233e+14</td>\n",
       "      <td>1.724988e+17</td>\n",
       "      <td>5.002464e+19</td>\n",
       "      <td>1.450715e+22</td>\n",
       "      <td>4.207072e+24</td>\n",
       "      <td>1.220051e+27</td>\n",
       "      <td>3.538148e+29</td>\n",
       "      <td>1.026063e+32</td>\n",
       "      <td>2.975582e+34</td>\n",
       "      <td>8.629189e+36</td>\n",
       "      <td>142000.0</td>\n",
       "    </tr>\n",
       "    <tr>\n",
       "      <th>15381</th>\n",
       "      <td>370.0</td>\n",
       "      <td>136900.0</td>\n",
       "      <td>50653000.0</td>\n",
       "      <td>1.874161e+10</td>\n",
       "      <td>6.934396e+12</td>\n",
       "      <td>2.565726e+15</td>\n",
       "      <td>9.493188e+17</td>\n",
       "      <td>3.512479e+20</td>\n",
       "      <td>1.299617e+23</td>\n",
       "      <td>4.808584e+25</td>\n",
       "      <td>1.779176e+28</td>\n",
       "      <td>6.582952e+30</td>\n",
       "      <td>2.435692e+33</td>\n",
       "      <td>9.012061e+35</td>\n",
       "      <td>3.334463e+38</td>\n",
       "      <td>276000.0</td>\n",
       "    </tr>\n",
       "    <tr>\n",
       "      <th>860</th>\n",
       "      <td>380.0</td>\n",
       "      <td>144400.0</td>\n",
       "      <td>54872000.0</td>\n",
       "      <td>2.085136e+10</td>\n",
       "      <td>7.923517e+12</td>\n",
       "      <td>3.010936e+15</td>\n",
       "      <td>1.144156e+18</td>\n",
       "      <td>4.347792e+20</td>\n",
       "      <td>1.652161e+23</td>\n",
       "      <td>6.278212e+25</td>\n",
       "      <td>2.385721e+28</td>\n",
       "      <td>9.065738e+30</td>\n",
       "      <td>3.444980e+33</td>\n",
       "      <td>1.309093e+36</td>\n",
       "      <td>4.974552e+38</td>\n",
       "      <td>245000.0</td>\n",
       "    </tr>\n",
       "    <tr>\n",
       "      <th>18379</th>\n",
       "      <td>384.0</td>\n",
       "      <td>147456.0</td>\n",
       "      <td>56623104.0</td>\n",
       "      <td>2.174327e+10</td>\n",
       "      <td>8.349416e+12</td>\n",
       "      <td>3.206176e+15</td>\n",
       "      <td>1.231172e+18</td>\n",
       "      <td>4.727699e+20</td>\n",
       "      <td>1.815436e+23</td>\n",
       "      <td>6.971275e+25</td>\n",
       "      <td>2.676970e+28</td>\n",
       "      <td>1.027956e+31</td>\n",
       "      <td>3.947353e+33</td>\n",
       "      <td>1.515783e+36</td>\n",
       "      <td>5.820608e+38</td>\n",
       "      <td>265000.0</td>\n",
       "    </tr>\n",
       "    <tr>\n",
       "      <th>4868</th>\n",
       "      <td>390.0</td>\n",
       "      <td>152100.0</td>\n",
       "      <td>59319000.0</td>\n",
       "      <td>2.313441e+10</td>\n",
       "      <td>9.022420e+12</td>\n",
       "      <td>3.518744e+15</td>\n",
       "      <td>1.372310e+18</td>\n",
       "      <td>5.352009e+20</td>\n",
       "      <td>2.087284e+23</td>\n",
       "      <td>8.140406e+25</td>\n",
       "      <td>3.174758e+28</td>\n",
       "      <td>1.238156e+31</td>\n",
       "      <td>4.828807e+33</td>\n",
       "      <td>1.883235e+36</td>\n",
       "      <td>7.344616e+38</td>\n",
       "      <td>228000.0</td>\n",
       "    </tr>\n",
       "  </tbody>\n",
       "</table>\n",
       "</div>"
      ],
      "text/plain": [
       "       power_1   power_2     power_3       power_4       power_5  \\\n",
       "19452    290.0   84100.0  24389000.0  7.072810e+09  2.051115e+12   \n",
       "15381    370.0  136900.0  50653000.0  1.874161e+10  6.934396e+12   \n",
       "860      380.0  144400.0  54872000.0  2.085136e+10  7.923517e+12   \n",
       "18379    384.0  147456.0  56623104.0  2.174327e+10  8.349416e+12   \n",
       "4868     390.0  152100.0  59319000.0  2.313441e+10  9.022420e+12   \n",
       "\n",
       "            power_6       power_7       power_8       power_9      power_10  \\\n",
       "19452  5.948233e+14  1.724988e+17  5.002464e+19  1.450715e+22  4.207072e+24   \n",
       "15381  2.565726e+15  9.493188e+17  3.512479e+20  1.299617e+23  4.808584e+25   \n",
       "860    3.010936e+15  1.144156e+18  4.347792e+20  1.652161e+23  6.278212e+25   \n",
       "18379  3.206176e+15  1.231172e+18  4.727699e+20  1.815436e+23  6.971275e+25   \n",
       "4868   3.518744e+15  1.372310e+18  5.352009e+20  2.087284e+23  8.140406e+25   \n",
       "\n",
       "           power_11      power_12      power_13      power_14      power_15  \\\n",
       "19452  1.220051e+27  3.538148e+29  1.026063e+32  2.975582e+34  8.629189e+36   \n",
       "15381  1.779176e+28  6.582952e+30  2.435692e+33  9.012061e+35  3.334463e+38   \n",
       "860    2.385721e+28  9.065738e+30  3.444980e+33  1.309093e+36  4.974552e+38   \n",
       "18379  2.676970e+28  1.027956e+31  3.947353e+33  1.515783e+36  5.820608e+38   \n",
       "4868   3.174758e+28  1.238156e+31  4.828807e+33  1.883235e+36  7.344616e+38   \n",
       "\n",
       "          price  \n",
       "19452  142000.0  \n",
       "15381  276000.0  \n",
       "860    245000.0  \n",
       "18379  265000.0  \n",
       "4868   228000.0  "
      ]
     },
     "execution_count": 16,
     "metadata": {},
     "output_type": "execute_result"
    }
   ],
   "source": [
    "poly15_data = polynomial_dataframe(sales['sqft_living'], 15)\n",
    "poly15_data['price'] = sales['price']\n",
    "poly15_data.head()"
   ]
  },
  {
   "cell_type": "code",
   "execution_count": 17,
   "metadata": {},
   "outputs": [],
   "source": [
    "my_features = poly15_data.columns[:-1]"
   ]
  },
  {
   "cell_type": "code",
   "execution_count": 18,
   "metadata": {},
   "outputs": [
    {
     "data": {
      "text/plain": [
       "Index(['power_1', 'power_2', 'power_3', 'power_4', 'power_5', 'power_6',\n",
       "       'power_7', 'power_8', 'power_9', 'power_10', 'power_11', 'power_12',\n",
       "       'power_13', 'power_14', 'power_15'],\n",
       "      dtype='object')"
      ]
     },
     "execution_count": 18,
     "metadata": {},
     "output_type": "execute_result"
    }
   ],
   "source": [
    "my_features"
   ]
  },
  {
   "cell_type": "code",
   "execution_count": 19,
   "metadata": {},
   "outputs": [
    {
     "data": {
      "text/plain": [
       "LinearRegression(copy_X=True, fit_intercept=True, n_jobs=1, normalize=False)"
      ]
     },
     "execution_count": 19,
     "metadata": {},
     "output_type": "execute_result"
    }
   ],
   "source": [
    "model15=LinearRegression()\n",
    "x=poly15_data[my_features]\n",
    "y=poly15_data['price']\n",
    "model15.fit(x,y)"
   ]
  },
  {
   "cell_type": "code",
   "execution_count": 20,
   "metadata": {},
   "outputs": [
    {
     "data": {
      "text/plain": [
       "[<matplotlib.lines.Line2D at 0x2054732fac8>,\n",
       " <matplotlib.lines.Line2D at 0x2054732ffd0>]"
      ]
     },
     "execution_count": 20,
     "metadata": {},
     "output_type": "execute_result"
    },
    {
     "data": {
      "image/png": "[encoded data removed]",
      "text/plain": [
       "<matplotlib.figure.Figure at 0x2054728f358>"
      ]
     },
     "metadata": {},
     "output_type": "display_data"
    }
   ],
   "source": [
    "plt.plot(x['power_1'],y,'.',x['power_1'], model15.predict(x),'-')"
   ]
  },
  {
   "cell_type": "code",
   "execution_count": 21,
   "metadata": {},
   "outputs": [
    {
     "name": "stdout",
     "output_type": "stream",
     "text": [
      "537116.3296377584 [ 4.56404164e-91  6.91713530e-51 -5.84668843e-56  0.00000000e+00\n",
      "  0.00000000e+00  2.68575170e-71  2.26147568e-67  1.85900299e-63\n",
      "  1.47144116e-59  1.09771012e-55  7.43509038e-52  4.23015578e-48\n",
      "  1.61618577e-44 -2.49283826e-48  9.59718336e-53]\n"
     ]
    }
   ],
   "source": [
    "print(model15.intercept_,model15.coef_)"
   ]
  },
  {
   "cell_type": "code",
   "execution_count": 22,
   "metadata": {},
   "outputs": [],
   "source": [
    "set1 = pd.read_csv(r'D:\\regression\\kc_house_set_1_data.csv', dtype=dtype_dict)\n",
    "set1 = set1.sort_values(['sqft_living','price'])\n",
    "set2 = pd.read_csv(r'D:\\regression\\kc_house_set_2_data.csv', dtype=dtype_dict)\n",
    "set2 = set2.sort_values(['sqft_living','price'])\n",
    "set3 = pd.read_csv(r'D:\\regression\\kc_house_set_3_data.csv', dtype=dtype_dict)\n",
    "set3 = set3.sort_values(['sqft_living','price'])\n",
    "set4 = pd.read_csv(r'D:\\regression\\kc_house_set_4_data.csv', dtype=dtype_dict)\n",
    "set4 = set4.sort_values(['sqft_living','price'])"
   ]
  },
  {
   "cell_type": "code",
   "execution_count": 23,
   "metadata": {},
   "outputs": [],
   "source": [
    "def plot_15degree(df):\n",
    "    poly15_data = polynomial_dataframe(df['sqft_living'], 15)\n",
    "    poly15_data['price'] = df['price']\n",
    "    my_features = poly15_data.columns[:-1]\n",
    "    model15=LinearRegression()\n",
    "    x=poly15_data[my_features]\n",
    "    y=poly15_data['price']\n",
    "    model15.fit(x,y)\n",
    "    print(model15.intercept_,model15.coef_)\n",
    "    plt.plot(x['power_1'],y,'.',x['power_1'], model15.predict(x),'-')"
   ]
  },
  {
   "cell_type": "code",
   "execution_count": 24,
   "metadata": {},
   "outputs": [
    {
     "name": "stdout",
     "output_type": "stream",
     "text": [
      "539058.8186684749 [ 3.05794168e-90 -1.69394947e-49 -5.61767588e-55 -4.97841222e-60\n",
      "  0.00000000e+00  1.10358351e-70  8.37724029e-67  6.23411957e-63\n",
      "  4.49156442e-59  3.06938763e-55  1.91749300e-51  1.01335180e-47\n",
      "  3.62176959e-44 -5.63501661e-48  2.18641116e-52]\n"
     ]
    },
    {
     "data": {
      "image/png": "[encoded data removed]",
      "text/plain": [
       "<matplotlib.figure.Figure at 0x205471acac8>"
      ]
     },
     "metadata": {},
     "output_type": "display_data"
    }
   ],
   "source": [
    "plot_15degree(set1)"
   ]
  },
  {
   "cell_type": "code",
   "execution_count": 25,
   "metadata": {},
   "outputs": [
    {
     "name": "stdout",
     "output_type": "stream",
     "text": [
      "506737.75622745766 [ 2.71335949e-77  7.33541092e-39 -1.85014873e-44  8.43742368e-50\n",
      "  0.00000000e+00  0.00000000e+00  3.64549213e-55  1.50416258e-51\n",
      "  5.76015665e-48  1.95770497e-44  5.39396539e-41  9.40376360e-38\n",
      " -3.63529141e-41  4.65476524e-45 -1.97197311e-49]\n"
     ]
    },
    {
     "data": {
      "image/png": "[encoded data removed]",
      "text/plain": [
       "<matplotlib.figure.Figure at 0x205472df780>"
      ]
     },
     "metadata": {},
     "output_type": "display_data"
    }
   ],
   "source": [
    "plot_15degree(set2)"
   ]
  },
  {
   "cell_type": "code",
   "execution_count": 26,
   "metadata": {},
   "outputs": [
    {
     "name": "stdout",
     "output_type": "stream",
     "text": [
      "530874.3166531883 [ 2.83751934e-88 -7.80224148e-49 -1.38767183e-55  3.98272978e-59\n",
      "  0.00000000e+00  4.27894986e-69  2.68009626e-65  1.63911362e-61\n",
      "  9.66435015e-58  5.38044653e-54  2.72563636e-50  1.16253248e-46\n",
      "  3.33756141e-43 -6.76238818e-47  3.43132932e-51]\n"
     ]
    },
    {
     "data": {
      "image/png": "[encoded data removed]",
      "text/plain": [
       "<matplotlib.figure.Figure at 0x20548e567f0>"
      ]
     },
     "metadata": {},
     "output_type": "display_data"
    }
   ],
   "source": [
    "plot_15degree(set3)"
   ]
  },
  {
   "cell_type": "code",
   "execution_count": 27,
   "metadata": {},
   "outputs": [
    {
     "name": "stdout",
     "output_type": "stream",
     "text": [
      "494817.00363715156 [ 1.37116050e-76  2.79678201e-40 -2.13063569e-44 -5.68255825e-49\n",
      "  0.00000000e+00  0.00000000e+00  1.27070051e-54  4.87868972e-51\n",
      "  1.73549022e-47  5.47058320e-44  1.39587599e-40  2.25041871e-37\n",
      " -9.43954119e-41  1.31573060e-44 -6.09163273e-49]\n"
     ]
    },
    {
     "data": {
      "image/png": "[encoded data removed]",
      "text/plain": [
       "<matplotlib.figure.Figure at 0x20548edcda0>"
      ]
     },
     "metadata": {},
     "output_type": "display_data"
    }
   ],
   "source": [
    "plot_15degree(set4)"
   ]
  },
  {
   "cell_type": "code",
   "execution_count": 28,
   "metadata": {},
   "outputs": [],
   "source": [
    "train_data = pd.read_csv(r'D:\\regression\\kc_house_train_data.csv', dtype=dtype_dict)\n",
    "train_data = train_data.sort_values(['sqft_living','price'])\n",
    "valid_data = pd.read_csv(r'D:\\regression\\kc_house_valid_data.csv', dtype=dtype_dict)\n",
    "valid_data = valid_data.sort_values(['sqft_living','price'])\n",
    "test_data = pd.read_csv(r'D:\\regression\\kc_house_test_data.csv', dtype=dtype_dict)\n",
    "test_data = test_data.sort_values(['sqft_living','price'])"
   ]
  },
  {
   "cell_type": "code",
   "execution_count": 29,
   "metadata": {},
   "outputs": [],
   "source": [
    "def plot_degree(data1, data2, degree):\n",
    "    poly_data = polynomial_dataframe(data1['sqft_living'], degree)\n",
    "    valid_data = polynomial_dataframe(data2['sqft_living'], degree)\n",
    "    my_features = poly_data.columns\n",
    "    poly_data['price'] = data1['price']\n",
    "    valid_data['price'] = data2['price']\n",
    "    model = LinearRegression()\n",
    "    x=poly_data[my_features]\n",
    "    y=poly_data['price']\n",
    "    model.fit(x,y)\n",
    "    rss_valid= np.sum((model.predict(valid_data[my_features]) - valid_data['price'])**2)\n",
    "    return rss_valid"
   ]
  },
  {
   "cell_type": "code",
   "execution_count": 30,
   "metadata": {},
   "outputs": [],
   "source": [
    "range_list = []\n",
    "for i in range(1,16):\n",
    "    range_list.append((plot_degree(train_data, valid_data, i),i))"
   ]
  },
  {
   "cell_type": "code",
   "execution_count": 31,
   "metadata": {},
   "outputs": [
    {
     "data": {
      "text/plain": [
       "(566268587982892.0, 6)"
      ]
     },
     "execution_count": 31,
     "metadata": {},
     "output_type": "execute_result"
    }
   ],
   "source": [
    "min(range_list)"
   ]
  },
  {
   "cell_type": "code",
   "execution_count": 32,
   "metadata": {},
   "outputs": [
    {
     "data": {
      "text/plain": [
       "135225114351908.31"
      ]
     },
     "execution_count": 32,
     "metadata": {},
     "output_type": "execute_result"
    }
   ],
   "source": [
    "plot_degree(train_data, test_data, 6)"
   ]
  }
 ],
 "metadata": {
  "kernelspec": {
   "display_name": "Python 3",
   "language": "python",
   "name": "python3"
  },
  "language_info": {
   "codemirror_mode": {
    "name": "ipython",
    "version": 3
   },
   "file_extension": ".py",
   "mimetype": "text/x-python",
   "name": "python",
   "nbconvert_exporter": "python",
   "pygments_lexer": "ipython3",
   "version": "3.6.4"
  }
 },
 "nbformat": 4,
 "nbformat_minor": 2
}
