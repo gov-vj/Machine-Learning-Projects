{
 "cells": [
  {
   "cell_type": "code",
   "execution_count": 1,
   "metadata": {},
   "outputs": [],
   "source": [
    "import numpy as np\n",
    "import pandas as pd"
   ]
  },
  {
   "cell_type": "code",
   "execution_count": 2,
   "metadata": {},
   "outputs": [],
   "source": [
    "dtype_dict = {'bathrooms':float, 'waterfront':int, 'sqft_above':int, 'sqft_living15':float, 'grade':int, \n",
    "              'yr_renovated':int, 'price':float, 'bedrooms':float, 'zipcode':str, 'long':float, 'sqft_lot15':float, \n",
    "              'sqft_living':float, 'floors':float, 'condition':int, 'lat':float, 'date':str, 'sqft_basement':int,\n",
    "              'yr_built':int, 'id':str, 'sqft_lot':int, 'view':int}"
   ]
  },
  {
   "cell_type": "code",
   "execution_count": 3,
   "metadata": {},
   "outputs": [],
   "source": [
    "sales = pd.read_csv(r\"D:\\regression\\Project 7\\data\\kc_house_data_small.csv\",dtype=dtype_dict)\n",
    "train_data=pd.read_csv(r\"D:\\regression\\Project 7\\data\\kc_house_data_small_train.csv\",dtype=dtype_dict)\n",
    "test_data=pd.read_csv(r\"D:\\regression\\Project 7\\data\\kc_house_data_small_test.csv\",dtype=dtype_dict)\n",
    "validation_data=pd.read_csv(r\"D:\\regression\\Project 7\\data\\kc_house_data_validation.csv\",dtype=dtype_dict)"
   ]
  },
  {
   "cell_type": "code",
   "execution_count": 4,
   "metadata": {},
   "outputs": [],
   "source": [
    "def get_numpy_data(df,features,output):\n",
    "    '''\n",
    "    i/p: df: data table in data frame format\n",
    "            features: x input name list. According to this list a feature matrix will be created in numpy 2D aray\n",
    "            output: single target name which will be converted into numpy vector\n",
    "    o/p: feature matrix, y vector in numpy array format'''\n",
    "    df['constant']=1   #add a constant field for the intercept\n",
    "    features=['constant']+features\n",
    "    feature_matrix=df.as_matrix(columns=features)\n",
    "    y_vector=df[output].values\n",
    "    return feature_matrix,y_vector"
   ]
  },
  {
   "cell_type": "code",
   "execution_count": 5,
   "metadata": {},
   "outputs": [],
   "source": [
    "def normalize_features(feature_matrix):\n",
    "    norms = np.linalg.norm(feature_matrix,axis=0)\n",
    "    normlized_feature_matrix = feature_matrix / norms\n",
    "    return (normlized_feature_matrix, norms)"
   ]
  },
  {
   "cell_type": "code",
   "execution_count": 6,
   "metadata": {},
   "outputs": [
    {
     "data": {
      "text/plain": [
       "['bathrooms',\n",
       " 'waterfront',\n",
       " 'sqft_above',\n",
       " 'sqft_living15',\n",
       " 'grade',\n",
       " 'yr_renovated',\n",
       " 'bedrooms',\n",
       " 'long',\n",
       " 'sqft_lot15',\n",
       " 'sqft_living',\n",
       " 'floors',\n",
       " 'condition',\n",
       " 'lat',\n",
       " 'sqft_basement',\n",
       " 'yr_built',\n",
       " 'sqft_lot',\n",
       " 'view']"
      ]
     },
     "execution_count": 6,
     "metadata": {},
     "output_type": "execute_result"
    }
   ],
   "source": [
    "features = [m for m,n in dtype_dict.items() if train_data[m].dtypes != 'object']\n",
    "features.remove('price')\n",
    "features"
   ]
  },
  {
   "cell_type": "code",
   "execution_count": 7,
   "metadata": {},
   "outputs": [],
   "source": [
    "train_feature_matrix,training_output=get_numpy_data(train_data,features,'price')\n",
    "test_feature_matrix,test_output=get_numpy_data(test_data,features,'price')\n",
    "validation_feature_matrix,validation_output=get_numpy_data(validation_data,features,'price')"
   ]
  },
  {
   "cell_type": "markdown",
   "metadata": {},
   "source": [
    "In computing distances, it is crucial to normalize features. Otherwise, for example, the ‘sqft_living’ feature (typically on the order of thousands) would exert a much larger influence on distance than the ‘bedrooms’ feature (typically on the order of ones)."
   ]
  },
  {
   "cell_type": "code",
   "execution_count": 8,
   "metadata": {},
   "outputs": [],
   "source": [
    "train_norm_feature_matrix, norms = normalize_features(train_feature_matrix)\n",
    "test_norm_feature_matrix = test_feature_matrix / norms\n",
    "validation_norm_feature_matrix = validation_feature_matrix / norms"
   ]
  },
  {
   "cell_type": "markdown",
   "metadata": {},
   "source": [
    "## Compute a single distance"
   ]
  },
  {
   "cell_type": "code",
   "execution_count": 9,
   "metadata": {},
   "outputs": [
    {
     "name": "stdout",
     "output_type": "stream",
     "text": [
      "[ 0.01345102  0.01807473  0.          0.01362084  0.01375926  0.01564352\n",
      "  0.          0.01551285 -0.01346922  0.0016225   0.01759212  0.017059\n",
      "  0.0116321   0.01345387  0.02481682  0.01350306  0.00160518  0.05102365]\n"
     ]
    }
   ],
   "source": [
    "print(test_norm_feature_matrix[0]) #query house"
   ]
  },
  {
   "cell_type": "code",
   "execution_count": 10,
   "metadata": {},
   "outputs": [
    {
     "name": "stdout",
     "output_type": "stream",
     "text": [
      "[ 0.01345102  0.00602491  0.          0.0096309   0.01195898  0.01390535\n",
      "  0.          0.01163464 -0.01346251  0.00156612  0.0083488   0.01279425\n",
      "  0.01938684  0.01346821  0.          0.01302544  0.00050756  0.        ]\n"
     ]
    }
   ],
   "source": [
    "print(train_norm_feature_matrix[9]) #10th house in training data set"
   ]
  },
  {
   "cell_type": "code",
   "execution_count": 11,
   "metadata": {},
   "outputs": [
    {
     "name": "stdout",
     "output_type": "stream",
     "text": [
      "Euclidean distance b/w above 2 houses is 0.05972359371398078\n"
     ]
    }
   ],
   "source": [
    "print(\"Euclidean distance b/w above 2 houses is\",np.sqrt(np.sum((test_norm_feature_matrix[0]-train_norm_feature_matrix[9])**2)))"
   ]
  },
  {
   "cell_type": "markdown",
   "metadata": {},
   "source": [
    "Euclidean distance from the query house to each of the first 10 houses in the training set."
   ]
  },
  {
   "cell_type": "code",
   "execution_count": 12,
   "metadata": {},
   "outputs": [],
   "source": [
    "distance=[(np.sqrt(np.sum((test_norm_feature_matrix[0]-train_norm_feature_matrix[i])**2)),i) for i in range(10)]"
   ]
  },
  {
   "cell_type": "code",
   "execution_count": 13,
   "metadata": {},
   "outputs": [
    {
     "name": "stdout",
     "output_type": "stream",
     "text": [
      "Among the first 10 training houses, 8th house is the closest to the query house and the distance b/w them is 5.238363e-02\n"
     ]
    }
   ],
   "source": [
    "i,j=min(distance)\n",
    "print('Among the first 10 training houses, %dth house is the closest to the query house and the distance b/w them is %e'%(j,i))"
   ]
  },
  {
   "cell_type": "code",
   "execution_count": 14,
   "metadata": {},
   "outputs": [
    {
     "name": "stdout",
     "output_type": "stream",
     "text": [
      "[ 0.00000000e+00 -1.20498190e-02  0.00000000e+00 -5.50336860e-03\n",
      " -5.14364795e-03 -3.47633726e-03  0.00000000e+00 -3.87821276e-03\n",
      "  1.29876855e-05  6.69281453e-04 -1.05552733e-02 -8.52950206e-03\n",
      "  0.00000000e+00 -1.70254220e-05 -2.48168183e-02 -1.63756198e-04\n",
      "  2.08673616e-04 -5.10236549e-02]\n",
      "[ 0.00000000e+00 -4.51868214e-03  0.00000000e+00  1.30705004e-03\n",
      " -2.89330197e-03 -3.47633726e-03  6.65082271e-02 -3.87821276e-03\n",
      "  6.16364736e-06  1.47606982e-03 -2.26610387e-03  0.00000000e+00\n",
      "  0.00000000e+00  4.23090220e-05 -1.45830788e-02 -1.91048898e-04\n",
      "  7.19763456e-04 -5.10236549e-02]\n",
      "[ 0.00000000e+00 -1.20498190e-02  0.00000000e+00 -8.32384500e-03\n",
      "  3.72914476e-03 -5.21450589e-03  0.00000000e+00 -7.75642553e-03\n",
      "  1.56292487e-05  1.64764925e-03 -1.30002801e-02 -8.52950206e-03\n",
      "  0.00000000e+00  4.70885840e-05 -2.48168183e-02 -3.13866046e-04\n",
      "  1.60518166e-03 -5.10236549e-02]\n",
      "\n",
      "[[ 0.00000000e+00 -1.20498190e-02  0.00000000e+00 -5.50336860e-03\n",
      "  -5.14364795e-03 -3.47633726e-03  0.00000000e+00 -3.87821276e-03\n",
      "   1.29876855e-05  6.69281453e-04 -1.05552733e-02 -8.52950206e-03\n",
      "   0.00000000e+00 -1.70254220e-05 -2.48168183e-02 -1.63756198e-04\n",
      "   2.08673616e-04 -5.10236549e-02]\n",
      " [ 0.00000000e+00 -4.51868214e-03  0.00000000e+00  1.30705004e-03\n",
      "  -2.89330197e-03 -3.47633726e-03  6.65082271e-02 -3.87821276e-03\n",
      "   6.16364736e-06  1.47606982e-03 -2.26610387e-03  0.00000000e+00\n",
      "   0.00000000e+00  4.23090220e-05 -1.45830788e-02 -1.91048898e-04\n",
      "   7.19763456e-04 -5.10236549e-02]\n",
      " [ 0.00000000e+00 -1.20498190e-02  0.00000000e+00 -8.32384500e-03\n",
      "   3.72914476e-03 -5.21450589e-03  0.00000000e+00 -7.75642553e-03\n",
      "   1.56292487e-05  1.64764925e-03 -1.30002801e-02 -8.52950206e-03\n",
      "   0.00000000e+00  4.70885840e-05 -2.48168183e-02 -3.13866046e-04\n",
      "   1.60518166e-03 -5.10236549e-02]]\n",
      "[0. 0. 0. 0. 0. 0. 0. 0. 0. 0. 0. 0. 0. 0. 0. 0. 0. 0.]\n",
      "[0. 0. 0. 0. 0. 0. 0. 0. 0. 0. 0. 0. 0. 0. 0. 0. 0. 0.]\n",
      "[0. 0. 0. 0. 0. 0. 0. 0. 0. 0. 0. 0. 0. 0. 0. 0. 0. 0.]\n"
     ]
    }
   ],
   "source": [
    "#test vectorization\n",
    "for i in range(3):\n",
    "    print(train_norm_feature_matrix[i]-test_norm_feature_matrix[0])\n",
    "    # should print 3 vectors of length 18\n",
    "print(\"\")\n",
    "print (train_norm_feature_matrix[0:3] - test_norm_feature_matrix[0])\n",
    "\n",
    "# verify that vectorization works\n",
    "results = train_norm_feature_matrix[0:3] - test_norm_feature_matrix[0]\n",
    "print (results[0] - (train_norm_feature_matrix[0]-test_norm_feature_matrix[0]))\n",
    "# should print all 0's if results[0] == (features_train[0]-features_test[0])\n",
    "print (results[1] - (train_norm_feature_matrix[1]-test_norm_feature_matrix[0]))\n",
    "# should print all 0's if results[1] == (features_train[1]-features_test[0])\n",
    "print (results[2] - (train_norm_feature_matrix[2]-test_norm_feature_matrix[0]))\n",
    "# should print all 0's if results[2] == (features_train[2]-features_test[0])"
   ]
  },
  {
   "cell_type": "markdown",
   "metadata": {},
   "source": [
    "## nearest neighbor regression"
   ]
  },
  {
   "cell_type": "code",
   "execution_count": 15,
   "metadata": {},
   "outputs": [],
   "source": [
    "diff=train_norm_feature_matrix-test_norm_feature_matrix[0]"
   ]
  },
  {
   "cell_type": "code",
   "execution_count": 16,
   "metadata": {},
   "outputs": [
    {
     "data": {
      "text/plain": [
       "True"
      ]
     },
     "execution_count": 16,
     "metadata": {},
     "output_type": "execute_result"
    }
   ],
   "source": [
    "#test\n",
    "np.sum(diff**2, axis=1)[15]==np.sum(diff[15]**2)"
   ]
  },
  {
   "cell_type": "code",
   "execution_count": 17,
   "metadata": {},
   "outputs": [
    {
     "data": {
      "text/plain": [
       "array([0.00363304, 0.00730492, 0.00378218, ..., 0.0032681 , 0.00325555,\n",
       "       0.00341846])"
      ]
     },
     "execution_count": 17,
     "metadata": {},
     "output_type": "execute_result"
    }
   ],
   "source": [
    "#test\n",
    "np.sum(diff**2, axis=1)"
   ]
  },
  {
   "cell_type": "code",
   "execution_count": 18,
   "metadata": {},
   "outputs": [
    {
     "data": {
      "text/plain": [
       "0.023708232416678198"
      ]
     },
     "execution_count": 18,
     "metadata": {},
     "output_type": "execute_result"
    }
   ],
   "source": [
    "distance=np.sqrt(np.sum(diff**2,axis=1))\n",
    "distance[100]"
   ]
  },
  {
   "cell_type": "code",
   "execution_count": 19,
   "metadata": {},
   "outputs": [],
   "source": [
    "def compute_distances(features_instances, features_query):\n",
    "    diff=features_instances-features_query\n",
    "    distances=np.sqrt(np.sum(diff**2,axis=1))\n",
    "    return distances"
   ]
  },
  {
   "cell_type": "code",
   "execution_count": 20,
   "metadata": {},
   "outputs": [
    {
     "name": "stdout",
     "output_type": "stream",
     "text": [
      "3rd house in the test data is closest to the house in the training data with index: 382\n"
     ]
    }
   ],
   "source": [
    "print(\"3rd house in the test data is closest to the house in the training data with index:\",\n",
    "      compute_distances(train_norm_feature_matrix,test_norm_feature_matrix[2]).argmin())"
   ]
  },
  {
   "cell_type": "code",
   "execution_count": 21,
   "metadata": {},
   "outputs": [
    {
     "name": "stdout",
     "output_type": "stream",
     "text": [
      "predicted value of the query house based on 1-nearest neighbor regression is 249000.0\n"
     ]
    }
   ],
   "source": [
    "print(\"predicted value of the query house based on 1-nearest neighbor regression is\",training_output[382])"
   ]
  },
  {
   "cell_type": "markdown",
   "metadata": {},
   "source": [
    "## Perform k-nearest neighbor regression"
   ]
  },
  {
   "cell_type": "code",
   "execution_count": 22,
   "metadata": {},
   "outputs": [],
   "source": [
    "def k_nearest_neighbors(k, feature_train, features_query):\n",
    "    distances=compute_distances(feature_train,features_query)\n",
    "    return np.argsort(distances)[0:k]"
   ]
  },
  {
   "cell_type": "code",
   "execution_count": 23,
   "metadata": {},
   "outputs": [
    {
     "name": "stdout",
     "output_type": "stream",
     "text": [
      "4 training houses that are closest to the 3rd house in the test set are [ 382 1149 4087 3142]\n"
     ]
    }
   ],
   "source": [
    "print(\"4 training houses that are closest to the 3rd house in the test set are\",\n",
    "       k_nearest_neighbors(4,train_norm_feature_matrix,test_norm_feature_matrix[2]))"
   ]
  },
  {
   "cell_type": "code",
   "execution_count": 24,
   "metadata": {},
   "outputs": [],
   "source": [
    "def predict_output_of_query(k, features_train, output_train, features_query):\n",
    "    neighbors=k_nearest_neighbors(k,features_train,features_query)\n",
    "    prediction=np.mean(output_train[neighbors])\n",
    "    return prediction"
   ]
  },
  {
   "cell_type": "code",
   "execution_count": 25,
   "metadata": {},
   "outputs": [
    {
     "name": "stdout",
     "output_type": "stream",
     "text": [
      "predicted value of 3rd house of the test set using k equal to 4 is 413987.5\n"
     ]
    }
   ],
   "source": [
    "print(\"predicted value of 3rd house of the test set using k equal to 4 is\",\n",
    "     predict_output_of_query(4,train_norm_feature_matrix,training_output,test_norm_feature_matrix[2]))"
   ]
  },
  {
   "cell_type": "code",
   "execution_count": 26,
   "metadata": {},
   "outputs": [],
   "source": [
    "def predict_output(k, features_train, output_train, features_query):\n",
    "    predictions=[predict_output_of_query(k, features_train, output_train, query_house) for query_house in features_query]\n",
    "    return np.array(predictions)"
   ]
  },
  {
   "cell_type": "code",
   "execution_count": 27,
   "metadata": {},
   "outputs": [],
   "source": [
    "predictions=predict_output(10, train_norm_feature_matrix, training_output, test_norm_feature_matrix[:10])"
   ]
  },
  {
   "cell_type": "code",
   "execution_count": 28,
   "metadata": {},
   "outputs": [
    {
     "name": "stdout",
     "output_type": "stream",
     "text": [
      "predictions for the first 10 houses in the test set, using k=10.\n",
      "[881300.  431860.  460595.  430200.  766750.  667420.  350032.  512800.7\n",
      " 484000.  457235. ]\n",
      "6th house in this query set that has the lowest predicted value.\n"
     ]
    }
   ],
   "source": [
    "print(\"predictions for the first 10 houses in the test set, using k=10.\")\n",
    "print(predictions)\n",
    "print(\"%dth house in this query set that has the lowest predicted value.\"%predictions.argmin())"
   ]
  },
  {
   "cell_type": "code",
   "execution_count": 29,
   "metadata": {},
   "outputs": [
    {
     "name": "stdout",
     "output_type": "stream",
     "text": [
      "The predicted value of this house is 350032.0\n"
     ]
    }
   ],
   "source": [
    "print(\"The predicted value of this house is\",predictions[6])"
   ]
  },
  {
   "cell_type": "markdown",
   "metadata": {},
   "source": [
    "## Choosing the best value of k using a validation set"
   ]
  },
  {
   "cell_type": "code",
   "execution_count": 30,
   "metadata": {},
   "outputs": [],
   "source": [
    "rss_min=float('inf'),0\n",
    "for k in range(1,15):\n",
    "    predictions=predict_output(k,train_norm_feature_matrix,training_output,validation_norm_feature_matrix)\n",
    "    rss=np.sum((validation_output-predictions)**2)\n",
    "    if rss_min[0]>rss:\n",
    "        rss_min=rss,k"
   ]
  },
  {
   "cell_type": "code",
   "execution_count": 31,
   "metadata": {},
   "outputs": [
    {
     "name": "stdout",
     "output_type": "stream",
     "text": [
      "minimum validation error is 6.736168e+13 for k equal to 8\n"
     ]
    }
   ],
   "source": [
    "print(\"minimum validation error is %e for k equal to %d\"%rss_min)"
   ]
  },
  {
   "cell_type": "code",
   "execution_count": 32,
   "metadata": {},
   "outputs": [],
   "source": [
    "predictions_test=predict_output(8,train_norm_feature_matrix,training_output,test_norm_feature_matrix)"
   ]
  },
  {
   "cell_type": "code",
   "execution_count": 33,
   "metadata": {},
   "outputs": [],
   "source": [
    "rss_test=np.sum((test_output-predictions_test)**2)"
   ]
  },
  {
   "cell_type": "code",
   "execution_count": 34,
   "metadata": {},
   "outputs": [
    {
     "name": "stdout",
     "output_type": "stream",
     "text": [
      "rss for test data is 1.331188e+14\n"
     ]
    }
   ],
   "source": [
    "print(\"rss for test data is %e\"%rss_test)"
   ]
  },
  {
   "cell_type": "code",
   "execution_count": null,
   "metadata": {},
   "outputs": [],
   "source": []
  }
 ],
 "metadata": {
  "kernelspec": {
   "display_name": "Python 3",
   "language": "python",
   "name": "python3"
  },
  "language_info": {
   "codemirror_mode": {
    "name": "ipython",
    "version": 3
   },
   "file_extension": ".py",
   "mimetype": "text/x-python",
   "name": "python",
   "nbconvert_exporter": "python",
   "pygments_lexer": "ipython3",
   "version": "3.6.4"
  }
 },
 "nbformat": 4,
 "nbformat_minor": 2
}
